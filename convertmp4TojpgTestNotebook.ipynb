{
 "cells": [
  {
   "cell_type": "code",
   "execution_count": 15,
   "metadata": {},
   "outputs": [
    {
     "name": "stdout",
     "output_type": "stream",
     "text": [
      "finished\n"
     ]
    }
   ],
   "source": [
    "import math   # for mathematical operations\n",
    "import cv2     # for capturing videos\n",
    "\n",
    "\n",
    "\n",
    "count = 0\n",
    "numberOfFilms = 3\n",
    "\n",
    "for filmNumber in range(0, numberOfFilms):\n",
    "    videoName = \"film_\" + str(filmNumber)\n",
    "    \n",
    "    videoFile = \"2K_Footage/\" + videoName + \".mp4\"\n",
    "    cap = cv2.VideoCapture(videoFile)\n",
    "    #frameRate = cap.get(5)\n",
    "    x=1\n",
    "    \n",
    "    frameCount = 0\n",
    "    while(cap.isOpened()):\n",
    "        frameID = cap.get(1)\n",
    "        ret, frame = cap.read()\n",
    "        if(ret != True):\n",
    "            break\n",
    "        #if(frameID % math.floor(frameRate)==0):\n",
    "        filename = \"allFilmFrames/\"+ videoName + \"_frame%d.jpg\" % frameCount; frameCount+=1\n",
    "        cv2.imwrite(filename,frame)\n",
    "    cap.release()\n",
    "    \n",
    "print(\"finished\")"
   ]
  },
  {
   "cell_type": "code",
   "execution_count": null,
   "metadata": {},
   "outputs": [],
   "source": []
  }
 ],
 "metadata": {
  "kernelspec": {
   "display_name": "Python [conda env:tensorflow]",
   "language": "python",
   "name": "conda-env-tensorflow-py"
  },
  "language_info": {
   "codemirror_mode": {
    "name": "ipython",
    "version": 3
   },
   "file_extension": ".py",
   "mimetype": "text/x-python",
   "name": "python",
   "nbconvert_exporter": "python",
   "pygments_lexer": "ipython3",
   "version": "3.5.6"
  }
 },
 "nbformat": 4,
 "nbformat_minor": 2
}
