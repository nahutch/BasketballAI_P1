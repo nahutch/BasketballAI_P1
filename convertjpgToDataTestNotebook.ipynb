{
 "cells": [
  {
   "cell_type": "code",
   "execution_count": 2,
   "metadata": {},
   "outputs": [
    {
     "name": "stderr",
     "output_type": "stream",
     "text": [
      "Using TensorFlow backend.\n",
      "/Users/nathanhutchison/anaconda3/envs/tensorflow/lib/python3.5/importlib/_bootstrap.py:222: RuntimeWarning: compiletime version 3.6 of module 'tensorflow.python.framework.fast_tensor_util' does not match runtime version 3.5\n",
      "  return f(*args, **kwds)\n"
     ]
    }
   ],
   "source": [
    "import math   # for mathematical operations\n",
    "import matplotlib.pyplot as plt    # for plotting the images\n",
    "#%matplotlib inline\n",
    "import pandas as pd\n",
    "from keras.preprocessing import image   # for preprocessing the images\n",
    "import numpy as np    # for mathematical operations\n",
    "from keras.utils import np_utils\n",
    "from skimage.transform import resize   # for resizing images\n"
   ]
  },
  {
   "cell_type": "code",
   "execution_count": 12,
   "metadata": {},
   "outputs": [
    {
     "name": "stderr",
     "output_type": "stream",
     "text": [
      "/Users/nathanhutchison/anaconda3/envs/tensorflow/lib/python3.5/site-packages/skimage/transform/_warps.py:105: UserWarning: The default mode, 'constant', will be changed to 'reflect' in skimage 0.15.\n",
      "  warn(\"The default mode, 'constant', will be changed to 'reflect' in \"\n",
      "/Users/nathanhutchison/anaconda3/envs/tensorflow/lib/python3.5/site-packages/skimage/transform/_warps.py:110: UserWarning: Anti-aliasing will be enabled by default in skimage 0.15 to avoid aliasing artifacts when down-sampling images.\n",
      "  warn(\"Anti-aliasing will be enabled by default in skimage 0.15 to \"\n"
     ]
    },
    {
     "data": {
      "text/plain": [
       "((1474, 7, 7, 512), (633, 7, 7, 512))"
      ]
     },
     "execution_count": 12,
     "metadata": {},
     "output_type": "execute_result"
    }
   ],
   "source": [
    "#Getting the data and preprocessing the data\n",
    "\n",
    "folderName = \"allFilmFrames\"\n",
    "\n",
    "data = pd.read_csv(folderName + \"/filmLabelMapping.csv\")\n",
    "\n",
    "data.head()\n",
    "\n",
    "\n",
    "imgArr = []\n",
    "for img_name in data.Image_ID:\n",
    "    img = plt.imread(\"\" + folderName + \"/\" + img_name)\n",
    "    imgArr.append(img)\n",
    "\n",
    "imgArr = np.array(imgArr)\n",
    "\n",
    "y = data.Class\n",
    "dummy_y = np_utils.to_categorical(y)\n",
    "\n",
    "image = []\n",
    "for i in range(0,imgArr.shape[0]):\n",
    "    a = resize(imgArr[i], preserve_range = True, output_shape = (224, 224)).astype(int)\n",
    "    image.append(a)\n",
    "\n",
    "imgArr = np.array(image)\n",
    "\n",
    "from keras.applications.vgg16 import preprocess_input\n",
    "\n",
    "imgArr = preprocess_input(imgArr, mode='tf')\n",
    "\n",
    "from sklearn.model_selection import train_test_split\n",
    "X_train, X_valid, y_train, y_valid = train_test_split(imgArr, dummy_y, test_size = 0.3, random_state = 42)\n",
    "\n",
    "from keras.models import Sequential\n",
    "from keras.applications.vgg16 import VGG16\n",
    "from keras.layers import Dense, InputLayer, Dropout\n",
    "base_model = VGG16(weights = 'imagenet', include_top = False, input_shape = (224,224,3))\n",
    "\n",
    "X_train = base_model.predict(X_train)\n",
    "X_valid = base_model.predict(X_valid)\n",
    "X_train.shape, X_valid.shape\n",
    "\n"
   ]
  },
  {
   "cell_type": "code",
   "execution_count": 13,
   "metadata": {},
   "outputs": [],
   "source": [
    "\n",
    "\n",
    "X_train = X_train.reshape(1474, 7*7*512)\n",
    "X_valid = X_valid.reshape(633, 7*7*512)\n",
    "\n",
    "X_train.shape, X_valid.shape\n",
    "\n",
    "train = X_train/X_train.max()\n",
    "X_valid = X_valid/X_train.max()\n",
    "\n"
   ]
  },
  {
   "cell_type": "code",
   "execution_count": 14,
   "metadata": {},
   "outputs": [
    {
     "name": "stdout",
     "output_type": "stream",
     "text": [
      "_________________________________________________________________\n",
      "Layer (type)                 Output Shape              Param #   \n",
      "=================================================================\n",
      "dense_1 (Dense)              (None, 1024)              25691136  \n",
      "_________________________________________________________________\n",
      "dense_2 (Dense)              (None, 3)                 3075      \n",
      "=================================================================\n",
      "Total params: 25,694,211\n",
      "Trainable params: 25,694,211\n",
      "Non-trainable params: 0\n",
      "_________________________________________________________________\n"
     ]
    }
   ],
   "source": [
    "#Building the model\n",
    "model = Sequential()\n",
    "model.add(InputLayer((7*7*512,)))  #input layer\n",
    "model.add(Dense(units = 1024, activation = 'sigmoid')) # hidden layer\n",
    "model.add(Dense(3, activation = 'softmax'))\n",
    "\n",
    "model.summary()"
   ]
  },
  {
   "cell_type": "code",
   "execution_count": 15,
   "metadata": {},
   "outputs": [],
   "source": [
    "#Compiling the model\n",
    "\n",
    "model.compile(loss = 'categorical_crossentropy', optimizer = 'adam', metrics = ['accuracy'])"
   ]
  },
  {
   "cell_type": "code",
   "execution_count": 17,
   "metadata": {},
   "outputs": [
    {
     "name": "stdout",
     "output_type": "stream",
     "text": [
      "Train on 1474 samples, validate on 633 samples\n",
      "Epoch 1/10\n",
      "1474/1474 [==============================] - 15s 10ms/step - loss: 0.0053 - acc: 0.9993 - val_loss: 0.0102 - val_acc: 0.9984\n",
      "Epoch 2/10\n",
      "1474/1474 [==============================] - 15s 10ms/step - loss: 0.0035 - acc: 0.9986 - val_loss: 0.0071 - val_acc: 0.9984\n",
      "Epoch 3/10\n",
      "1474/1474 [==============================] - 15s 10ms/step - loss: 0.0033 - acc: 0.9993 - val_loss: 0.0046 - val_acc: 0.9984\n",
      "Epoch 4/10\n",
      "1474/1474 [==============================] - 15s 10ms/step - loss: 0.0020 - acc: 1.0000 - val_loss: 0.0055 - val_acc: 0.9968\n",
      "Epoch 5/10\n",
      "1474/1474 [==============================] - 15s 10ms/step - loss: 0.0035 - acc: 0.9993 - val_loss: 0.0068 - val_acc: 0.9984\n",
      "Epoch 6/10\n",
      "1474/1474 [==============================] - 15s 10ms/step - loss: 0.0017 - acc: 1.0000 - val_loss: 0.0035 - val_acc: 0.9968\n",
      "Epoch 7/10\n",
      "1474/1474 [==============================] - 15s 10ms/step - loss: 8.2069e-04 - acc: 1.0000 - val_loss: 0.0049 - val_acc: 0.9984\n",
      "Epoch 8/10\n",
      "1474/1474 [==============================] - 15s 10ms/step - loss: 0.0014 - acc: 1.0000 - val_loss: 0.0062 - val_acc: 0.9968\n",
      "Epoch 9/10\n",
      "1474/1474 [==============================] - 15s 10ms/step - loss: 0.0010 - acc: 1.0000 - val_loss: 0.0039 - val_acc: 0.9984\n",
      "Epoch 10/10\n",
      "1474/1474 [==============================] - 15s 10ms/step - loss: 0.0065 - acc: 0.9959 - val_loss: 0.0061 - val_acc: 0.9984\n"
     ]
    },
    {
     "data": {
      "text/plain": [
       "<keras.callbacks.History at 0x1c304047b8>"
      ]
     },
     "execution_count": 17,
     "metadata": {},
     "output_type": "execute_result"
    }
   ],
   "source": [
    "#Training the model\n",
    "model.fit(train, y_train, epochs = 10, validation_data = (X_valid, y_valid))"
   ]
  },
  {
   "cell_type": "code",
   "execution_count": null,
   "metadata": {},
   "outputs": [],
   "source": []
  }
 ],
 "metadata": {
  "kernelspec": {
   "display_name": "Python [conda env:tensorflow]",
   "language": "python",
   "name": "conda-env-tensorflow-py"
  },
  "language_info": {
   "codemirror_mode": {
    "name": "ipython",
    "version": 3
   },
   "file_extension": ".py",
   "mimetype": "text/x-python",
   "name": "python",
   "nbconvert_exporter": "python",
   "pygments_lexer": "ipython3",
   "version": "3.5.6"
  }
 },
 "nbformat": 4,
 "nbformat_minor": 2
}
